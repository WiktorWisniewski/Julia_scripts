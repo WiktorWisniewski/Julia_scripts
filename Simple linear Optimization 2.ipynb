{
 "cells": [
  {
   "cell_type": "code",
   "execution_count": 2,
   "id": "2947373b",
   "metadata": {},
   "outputs": [
    {
     "name": "stdout",
     "output_type": "stream",
     "text": [
      "Optimal Solutions:\n",
      "x[1] = 10.0\n",
      "x[2] = 2.1875\n",
      "x[3] = 0.9375\n",
      "Dual Variables:\n",
      "dual[1] = 1.8125\n",
      "dual[2] = 0.06250000000000003\n"
     ]
    }
   ],
   "source": [
    "using JuMP, GLPK\n",
    "m = Model(GLPK.Optimizer)\n",
    "\n",
    "c = [ 1; 2; 5]\n",
    "A = [-1  1  3;\n",
    "      1  3 -7]\n",
    "b = [-5; 10]\n",
    "\n",
    "@variable(m, x[1:3] >= 0)\n",
    "@objective(m, Max, sum( c[i]*x[i] for i in 1:3) )\n",
    "\n",
    "@constraint(m, constraint[j in 1:2], sum( A[j,i]*x[i] for i in 1:3 ) <= b[j] )\n",
    "@constraint(m, bound, x[1] <= 10)\n",
    "\n",
    "JuMP.optimize!(m)\n",
    "\n",
    "\n",
    "println(\"Optimal Solutions:\")\n",
    "for i in 1:3\n",
    "  println(\"x[$i] = \", JuMP.value(x[i]))\n",
    "end\n",
    "\n",
    "println(\"Dual Variables:\")\n",
    "for j in 1:2\n",
    "  println(\"dual[$j] = \", JuMP.shadow_price(constraint[j]))\n",
    "end"
   ]
  },
  {
   "cell_type": "code",
   "execution_count": 3,
   "id": "66542fa4",
   "metadata": {},
   "outputs": [
    {
     "data": {
      "text/latex": [
       "$$ \\begin{aligned}\n",
       "\\max\\quad & x1 + 2 x2 + 5 x3\\\\\n",
       "\\text{Subject to} \\quad & -x1 + x2 + 3 x3 \\leq -5.0\\\\\n",
       " & x1 + 3 x2 - 7 x3 \\leq 10.0\\\\\n",
       " & x1 \\geq 0.0\\\\\n",
       " & x2 \\geq 0.0\\\\\n",
       " & x1 \\leq 10.0\\\\\n",
       " & x2 \\in \\mathbb{Z}\\\\\n",
       " & x3 \\in \\{0, 1\\}\\\\\n",
       "\\end{aligned} $$"
      ]
     },
     "metadata": {},
     "output_type": "display_data"
    },
    {
     "name": "stdout",
     "output_type": "stream",
     "text": [
      "Optimal Solutions:\n",
      "x1 = 10.0\n",
      "x2 = 2.0\n",
      "x3 = 1.0\n"
     ]
    }
   ],
   "source": [
    "\n",
    "# Preparing an optimization model\n",
    "m = Model(GLPK.Optimizer)\n",
    "\n",
    "# Declaring variables\n",
    "@variable(m, 0<= x1 <=10)\n",
    "@variable(m, x2 >=0, Int)\n",
    "@variable(m, x3, Bin)\n",
    "\n",
    "# Setting the objective\n",
    "@objective(m, Max, x1 + 2x2 + 5x3)\n",
    "\n",
    "# Adding constraints\n",
    "@constraint(m, constraint1, -x1 +  x2 + 3x3 <= -5)\n",
    "@constraint(m, constraint2,  x1 + 3x2 - 7x3 <= 10)\n",
    "\n",
    "# Printing the prepared optimization model\n",
    "print(m)\n",
    "\n",
    "# Solving the optimization problem\n",
    "JuMP.optimize!(m)\n",
    "\n",
    "# Printing the optimal solutions obtained\n",
    "println(\"Optimal Solutions:\")\n",
    "println(\"x1 = \", JuMP.value(x1))\n",
    "println(\"x2 = \", JuMP.value(x2))\n",
    "println(\"x3 = \", JuMP.value(x3))"
   ]
  },
  {
   "cell_type": "code",
   "execution_count": null,
   "id": "2a860c18",
   "metadata": {},
   "outputs": [],
   "source": []
  }
 ],
 "metadata": {
  "kernelspec": {
   "display_name": "Julia 1.7.2",
   "language": "julia",
   "name": "julia-1.7"
  },
  "language_info": {
   "file_extension": ".jl",
   "mimetype": "application/julia",
   "name": "julia",
   "version": "1.7.2"
  }
 },
 "nbformat": 4,
 "nbformat_minor": 5
}
